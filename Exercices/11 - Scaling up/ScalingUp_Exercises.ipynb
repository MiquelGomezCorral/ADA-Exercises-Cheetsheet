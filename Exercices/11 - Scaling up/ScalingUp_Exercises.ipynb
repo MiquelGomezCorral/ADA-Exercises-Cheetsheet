{
 "cells": [
  {
   "cell_type": "markdown",
   "metadata": {},
   "source": [
    "# Scaling up\n",
    "\n",
    "Originally released as part of a homework in ADA2019.\n",
    "\n",
    "## Description\n",
    "\n",
    "[Reddit](https://www.reddit.com/) aka *'the front page of the internet'* is a network of over a million *communities* aka *'subreddits'*, each of which covers a different topic based on people's interests. In other words, it is a *massive* collection of forums (corresponding to the aforementioned communities), where people can share content specific to a given topic or comment on other people’s posts.   \n",
    "\n",
    "You are reddit's community manager and want to *appoint new moderators*. Because moderating a specific subreddit isn't a full-time job, you want the chosen moderators to moderate multiple subreddits at the same time. To make this choice effective, the moderators shouldn't have to spend too much time getting to know the community and the prevalent communication style, so it makes sense to let moderators moderate subreddits that are similar in communication style and language. At the same time, it also makes sense to let them moderate subreddits that are similar with respect to the participating users, because this allows moderators to track the behavior of individual users over multiple subreddits. For example, some users might only post offensive content once a month on a given subreddit, and therefore fly under the radar with someone moderating only that subreddit. However, considering all the subreddits these users post to, they might post something offensive every day but on different subreddits. Thus, a moderator in charge of all these subreddits would be able to ban such users much more effectively. In the light of the above description, your task is to find out ways to choose moderators considering both the textual content and the users of a subreddit.\n",
    "\n",
    "### Dataset:\n",
    "The dataset provided to you includes all the posts of the 15 largest subreddits written as of May 2015.\n",
    "\n",
    "Reddit posts (provided to you via a [google drive folder](https://drive.google.com/a/epfl.ch/file/d/19SVHKbUTUPtC9HMmADJcAAIY1Xjq6WFv/view?usp=sharing))\n",
    "```\n",
    "reddit_posts\n",
    " |-- id: id of the post \n",
    " |-- author: user name of the author \n",
    " |-- body: text of the message\n",
    " |-- subreddit: name of the subreddit\n",
    "```\n",
    "\n",
    "Reddit scores (provided to you via a [google drive folder](https://drive.google.com/a/epfl.ch/file/d/1vr4PolJzTXr6ODSe3ucib5EAyp3rjxec/view?usp=sharing))\n",
    "```\n",
    "reddit_scores\n",
    " |-- id: id of the post \n",
    " |-- score: score computed as sum of UP/DOWN votes\n",
    "```\n",
    "\n",
    "*Note: Jaccard similarity between subreddits represented using either the set of top-1000 words or the set of users can be computed locally (on the driver), however, all the other tasks have to be implemented in Spark.*\n",
    "\n",
    "## B1. Getting a sense of the data\n",
    "\n",
    "Start a PySpark instance..."
   ]
  },
  {
   "cell_type": "code",
   "execution_count": 1,
   "metadata": {},
   "outputs": [
    {
     "data": {
      "text/html": [
       "\n",
       "            <div>\n",
       "                <p><b>SparkSession - in-memory</b></p>\n",
       "                \n",
       "        <div>\n",
       "            <p><b>SparkContext</b></p>\n",
       "\n",
       "            <p><a href=\"http://Pac:4041\">Spark UI</a></p>\n",
       "\n",
       "            <dl>\n",
       "              <dt>Version</dt>\n",
       "                <dd><code>v3.5.4</code></dd>\n",
       "              <dt>Master</dt>\n",
       "                <dd><code>local[*]</code></dd>\n",
       "              <dt>AppName</dt>\n",
       "                <dd><code>pyspark-shell</code></dd>\n",
       "            </dl>\n",
       "        </div>\n",
       "        \n",
       "            </div>\n",
       "        "
      ],
      "text/plain": [
       "<pyspark.sql.session.SparkSession at 0x2badaba33b0>"
      ]
     },
     "execution_count": 1,
     "metadata": {},
     "output_type": "execute_result"
    }
   ],
   "source": [
    "import pyspark\n",
    "import pyspark.sql\n",
    "from pyspark.sql import *\n",
    "from pyspark.sql.functions import *\n",
    "import numpy as np \n",
    "import pandas as pd\n",
    "\n",
    "conf = pyspark.SparkConf().setMaster(\"local[*]\").setAll([\n",
    "                                   ('spark.executor.memory', '12g'),  # find\n",
    "                                   ('spark.driver.memory','4g'), # your\n",
    "                                   ('spark.driver.maxResultSize', '2G') # setup\n",
    "                                  ])\n",
    "# create the session\n",
    "spark = SparkSession.builder.config(conf=conf).getOrCreate()\n",
    "\n",
    "# create the context\n",
    "sc = spark.sparkContext\n",
    "\n",
    "# FIX for Spark 2.x\n",
    "locale = sc._jvm.java.util.Locale\n",
    "locale.setDefault(locale.forLanguageTag(\"en-US\"))\n",
    "\n",
    "spark"
   ]
  },
  {
   "cell_type": "markdown",
   "metadata": {},
   "source": [
    "... and load the data in a Spark dataframe."
   ]
  },
  {
   "cell_type": "code",
   "execution_count": 2,
   "metadata": {
    "collapsed": true,
    "jupyter": {
     "outputs_hidden": true
    }
   },
   "outputs": [],
   "source": [
    "rd_messages = spark.read.json(\"messages.json.gz\")\n",
    "rd_score = spark.read.json(\"score.json.gz\")"
   ]
  },
  {
   "cell_type": "code",
   "execution_count": 3,
   "metadata": {},
   "outputs": [],
   "source": [
    "posts_merged = rd_messages.join(rd_score, on=\"id\", how=\"inner\") "
   ]
  },
  {
   "cell_type": "code",
   "execution_count": 4,
   "metadata": {},
   "outputs": [
    {
     "name": "stdout",
     "output_type": "stream",
     "text": [
      "+-------+-------------------+--------------------+---------------+-----+\n",
      "|     id|             author|                body|      subreddit|score|\n",
      "+-------+-------------------+--------------------+---------------+-----+\n",
      "|cqug955|       _TimDuncan21|What did the 5 fi...|            nba|    1|\n",
      "|cqug9j7|           Blakwulf|Not what i meant,...|           pics|    4|\n",
      "|cqug9t1|           GheeGhee|      Giggle fart!!!|            nba|    1|\n",
      "|cqug9yz|            bwishey|More like that aw...|          funny|    2|\n",
      "|cquga10|       thricethefun|Bulls in 6 over Cavs|            nba|   20|\n",
      "|cquga1r|   JakeCameraAction|IT WAS MINOR AND ...|         hockey|    3|\n",
      "|cquga3k|         PhoKingGr8|/r/birdswitharms ...|         videos|    8|\n",
      "|cquga53|   neverhaveiever23|                 LOL|            nfl|    1|\n",
      "|cquga9q|  godless_communism|That's a hell of ...|      worldnews|    1|\n",
      "|cqugaaj|    Hugh_G_Wrection|    Pathetic whistle|            nba|    0|\n",
      "|cqugaba|    LastNewtStandin|I was calling it ...| DestinyTheGame|    0|\n",
      "|cqugaf7|         maverickkk|           SKOLLLLLL|            nfl|    1|\n",
      "|cqugak4|     FIDEL_CASHFLOW|   it's worth a shot|            nfl|    2|\n",
      "|cqugam9|            Prokade|Well FNS's last n...|GlobalOffensive|   11|\n",
      "|cqugama|            SNSDave|They face an LCK ...|leagueoflegends|    2|\n",
      "|cqugaq3|         DuckOnQuak|Okay? David Lee f...|            nba|    1|\n",
      "|cqugarc|       Lizanderberg|Ok, I don't think...|           news|    1|\n",
      "|cqugarz|         KingNashII|Englishman checki...|            nfl|    2|\n",
      "|cqugas5|         rumplybeef|That awkward mome...|            nfl|    2|\n",
      "|cqugasn|THANKS-FOR-THE-GOLD|Or not because it...|          funny|    1|\n",
      "+-------+-------------------+--------------------+---------------+-----+\n",
      "only showing top 20 rows\n",
      "\n"
     ]
    }
   ],
   "source": [
    "posts_merged.show()  "
   ]
  },
  {
   "cell_type": "markdown",
   "metadata": {},
   "source": [
    "### B1.1. Identify the most active subreddit\n",
    "\n",
    "Print the list of subreddits along with the following information:\n",
    "1. The total number of posts\n",
    "2. The number of users with at least 1 message\n",
    "3. The mean message length\n",
    "\n",
    "*Note: Keep everything in one single dataframe and print the list sorted by number of posts in descending order.*"
   ]
  },
  {
   "cell_type": "code",
   "execution_count": 5,
   "metadata": {
    "collapsed": true,
    "jupyter": {
     "outputs_hidden": true
    }
   },
   "outputs": [
    {
     "name": "stdout",
     "output_type": "stream",
     "text": [
      "In total there are 7_984_080 posts\n"
     ]
    }
   ],
   "source": [
    "total_counts = posts_merged.count()\n",
    "print(f\"In total there are {total_counts:_} posts\")"
   ]
  },
  {
   "cell_type": "code",
   "execution_count": 6,
   "metadata": {},
   "outputs": [
    {
     "name": "stdout",
     "output_type": "stream",
     "text": [
      "+-------------------+----------+------------------+\n",
      "|             author|post_count|          post_avg|\n",
      "+-------------------+----------+------------------+\n",
      "|      AutoModerator|     31403| 696.4621214533644|\n",
      "|   imgurtranscriber|      4775|450.87916230366494|\n",
      "|          Dancatpro|      3499|  82.6881966276079|\n",
      "|TweetsInCommentsBot|      3325| 529.2508270676692|\n",
      "|    sufficiency_bot|      2379|1109.1803278688524|\n",
      "|       idealreaddit|      2216| 50.29061371841155|\n",
      "|     GhostifiedMark|      2141| 51.10929472209248|\n",
      "|    MisterWoodhouse|      2109|203.47226173541964|\n",
      "|     Tower_Guardian|      1973|113.36746071971616|\n",
      "|           wwxxyyzz|      1967|  87.8403660396543|\n",
      "|       heat_forever|      1936|118.97107438016529|\n",
      "|   Classic_Griswald|      1907| 281.0283167278448|\n",
      "|           GRiZZY19|      1903| 139.4561219127693|\n",
      "|        TweetPoster|      1860|             809.8|\n",
      "|            chosena|      1855|154.38059299191374|\n",
      "|          TrollaBot|      1845| 990.6926829268293|\n",
      "|  Aperture-Employee|      1801|  69.2881732370905|\n",
      "|            Hellowz|      1747| 193.3365769891242|\n",
      "|           Mehberry|      1714|57.746207701283545|\n",
      "|    themariokarters|      1714|46.653442240373394|\n",
      "+-------------------+----------+------------------+\n",
      "only showing top 20 rows\n",
      "\n"
     ]
    }
   ],
   "source": [
    "posts_count = posts_merged.groupBy(\"author\").agg(\n",
    "    count(\"*\").alias(\"post_count\"),\n",
    "    avg(length(\"body\")).alias(\"post_avg\")\n",
    "    ).sort(desc(\"post_count\"))\n",
    "posts_count.show()"
   ]
  },
  {
   "cell_type": "code",
   "execution_count": 7,
   "metadata": {},
   "outputs": [
    {
     "data": {
      "text/plain": [
       "128.52622051302217"
      ]
     },
     "execution_count": 7,
     "metadata": {},
     "output_type": "execute_result"
    }
   ],
   "source": [
    "mean_post_avg = posts_count.select(mean(\"post_avg\")).collect()[0][0]\n",
    "mean_post_avg"
   ]
  },
  {
   "cell_type": "markdown",
   "metadata": {},
   "source": [
    "### B1.2. Identify the largest subreddit\n",
    "\n",
    "Print *two* different lists of subreddits: ordered by (1) the number of posts, and (2) the number of users. For each subreddit, print the name and the corresponding counts.\n",
    "\n",
    "Additionally, (3) plot the mean of message length for each subreddit in descending order."
   ]
  },
  {
   "cell_type": "code",
   "execution_count": 8,
   "metadata": {
    "collapsed": true,
    "jupyter": {
     "outputs_hidden": true
    }
   },
   "outputs": [
    {
     "name": "stdout",
     "output_type": "stream",
     "text": [
      "+---------------+------------+----------+------------------+\n",
      "|      subreddit|author_count|post_count|          post_avg|\n",
      "+---------------+------------+----------+------------------+\n",
      "|          funny|      224077|    691139|106.82283882113438|\n",
      "|           pics|      205305|    564502| 114.9710045314277|\n",
      "|         videos|      157628|    511492|170.22702603364274|\n",
      "|leagueoflegends|      119321|   1151287|152.72280760574904|\n",
      "|  AdviceAnimals|      115815|    411902| 159.2513801826648|\n",
      "|      worldnews|       99261|    439417|224.93754679495785|\n",
      "|           news|       98736|    477658| 230.9491602778557|\n",
      "|         movies|       92484|    354601|164.83209297210104|\n",
      "|GlobalOffensive|       46686|    382017| 147.2883981602913|\n",
      "|            nba|       45034|    704862|106.48656758344187|\n",
      "|         soccer|       41648|    455215|134.42224663071295|\n",
      "|            nfl|       41593|    534345|148.96989211090212|\n",
      "|          DotA2|       41466|    445154|141.48906670500546|\n",
      "| DestinyTheGame|       37008|    471160|165.41786866457255|\n",
      "|         hockey|       25568|    389329| 95.37287230080472|\n",
      "+---------------+------------+----------+------------------+\n",
      "\n"
     ]
    }
   ],
   "source": [
    "subredit_post_counts = posts_merged.groupBy(\"subreddit\").agg(\n",
    "    countDistinct(\"author\").alias(\"author_count\"),\n",
    "    count(\"*\").alias(\"post_count\"),\n",
    "    avg(length(\"body\")).alias(\"post_avg\"),\n",
    "    ).sort(desc(\"author_count\")).cache()\n",
    "subredit_post_counts.show()"
   ]
  },
  {
   "cell_type": "code",
   "execution_count": 9,
   "metadata": {},
   "outputs": [
    {
     "name": "stdout",
     "output_type": "stream",
     "text": [
      "+---------------+------------+----------+------------------+\n",
      "|      subreddit|author_count|post_count|          post_avg|\n",
      "+---------------+------------+----------+------------------+\n",
      "|leagueoflegends|      119321|   1151287|152.72280760574904|\n",
      "|            nba|       45034|    704862|106.48656758344187|\n",
      "|          funny|      224077|    691139|106.82283882113438|\n",
      "|           pics|      205305|    564502| 114.9710045314277|\n",
      "|            nfl|       41593|    534345|148.96989211090212|\n",
      "|         videos|      157628|    511492|170.22702603364274|\n",
      "|           news|       98736|    477658| 230.9491602778557|\n",
      "| DestinyTheGame|       37008|    471160|165.41786866457255|\n",
      "|         soccer|       41648|    455215|134.42224663071295|\n",
      "|          DotA2|       41466|    445154|141.48906670500546|\n",
      "|      worldnews|       99261|    439417|224.93754679495785|\n",
      "|  AdviceAnimals|      115815|    411902| 159.2513801826648|\n",
      "|         hockey|       25568|    389329| 95.37287230080472|\n",
      "|GlobalOffensive|       46686|    382017| 147.2883981602913|\n",
      "|         movies|       92484|    354601|164.83209297210104|\n",
      "+---------------+------------+----------+------------------+\n",
      "\n"
     ]
    }
   ],
   "source": [
    "subredit_post_counts = posts_merged.groupBy(\"subreddit\").agg(\n",
    "    countDistinct(\"author\").alias(\"author_count\"),\n",
    "    count(\"*\").alias(\"post_count\"),\n",
    "    avg(length(\"body\")).alias(\"post_avg\"),\n",
    "    ).sort(desc(\"post_count\"))\n",
    "subredit_post_counts.show()"
   ]
  },
  {
   "cell_type": "code",
   "execution_count": 10,
   "metadata": {},
   "outputs": [
    {
     "name": "stdout",
     "output_type": "stream",
     "text": [
      "+---------------+------------+----------+------------------+\n",
      "|      subreddit|author_count|post_count|          post_avg|\n",
      "+---------------+------------+----------+------------------+\n",
      "|           news|       98736|    477658| 230.9491602778557|\n",
      "|      worldnews|       99261|    439417|224.93754679495785|\n",
      "|         videos|      157628|    511492|170.22702603364274|\n",
      "| DestinyTheGame|       37008|    471160|165.41786866457255|\n",
      "|         movies|       92484|    354601|164.83209297210104|\n",
      "|  AdviceAnimals|      115815|    411902| 159.2513801826648|\n",
      "|leagueoflegends|      119321|   1151287|152.72280760574904|\n",
      "|            nfl|       41593|    534345|148.96989211090212|\n",
      "|GlobalOffensive|       46686|    382017| 147.2883981602913|\n",
      "|          DotA2|       41466|    445154|141.48906670500546|\n",
      "|         soccer|       41648|    455215|134.42224663071295|\n",
      "|           pics|      205305|    564502| 114.9710045314277|\n",
      "|          funny|      224077|    691139|106.82283882113438|\n",
      "|            nba|       45034|    704862|106.48656758344187|\n",
      "|         hockey|       25568|    389329| 95.37287230080472|\n",
      "+---------------+------------+----------+------------------+\n",
      "\n"
     ]
    }
   ],
   "source": [
    "subredit_post_counts = posts_merged.groupBy(\"subreddit\").agg(\n",
    "    countDistinct(\"author\").alias(\"author_count\"),\n",
    "    count(\"*\").alias(\"post_count\"),\n",
    "    avg(length(\"body\")).alias(\"post_avg\"),\n",
    ").sort(desc(\"post_avg\"))\n",
    "subredit_post_counts.show()"
   ]
  },
  {
   "cell_type": "markdown",
   "metadata": {},
   "source": [
    "### B1.3. Identify the subreddit with the highest average score\n",
    "\n",
    "Print the list of subreddits sorted by their average content scores."
   ]
  },
  {
   "cell_type": "code",
   "execution_count": 11,
   "metadata": {
    "collapsed": true,
    "jupyter": {
     "outputs_hidden": true
    }
   },
   "outputs": [
    {
     "name": "stdout",
     "output_type": "stream",
     "text": [
      "+---------------+------------------+\n",
      "|      subreddit|         avg_score|\n",
      "+---------------+------------------+\n",
      "|         videos|12.649445152612358|\n",
      "|           pics|12.216559020162904|\n",
      "|          funny|12.041505399058655|\n",
      "|  AdviceAnimals|11.251695791717447|\n",
      "|         soccer|10.634627593554693|\n",
      "|         movies|  9.82014997137628|\n",
      "|            nfl| 9.048348913155358|\n",
      "|            nba| 9.032795071943161|\n",
      "|           news| 8.673421150697779|\n",
      "|      worldnews|  7.86683719564787|\n",
      "|         hockey| 6.520120515039979|\n",
      "|leagueoflegends| 5.983557531701479|\n",
      "|          DotA2| 4.880537971129092|\n",
      "|GlobalOffensive| 4.351442475073099|\n",
      "| DestinyTheGame|3.0288819084811953|\n",
      "+---------------+------------------+\n",
      "\n"
     ]
    }
   ],
   "source": [
    "subredit_scores = posts_merged.groupby(\"subreddit\").agg(\n",
    "    avg(\"score\").alias(\"avg_score\")\n",
    ").sort(desc(\"avg_score\"))\n",
    "subredit_scores.show()"
   ]
  },
  {
   "cell_type": "markdown",
   "metadata": {},
   "source": [
    "## B2. Moderator assignment based on Subreddit Textual Content\n",
    "\n",
    "Different subreddits follow different communication styles inherent in the topic and the community. Having said that, the goal is to discover similar subreddits by only looking at the *words* present in the posted messages. Once such a list of similar subreddits is identified, an appropriately chosen moderator can then be assigned to all these subreddits.\n",
    "\n",
    "Specifically, the task boils down to computing a similarity score between two subreddits based on the *words* present in their textual content. Your first idea is to use the *Jaccard similarity*, which is defined as the size of the intersection of two sets divided by the size of their union.\n",
    "\n",
    "$Jaccard(A,B) = \\frac{|A \\cap B|}{|A \\cup B|}$"
   ]
  },
  {
   "cell_type": "code",
   "execution_count": 12,
   "metadata": {},
   "outputs": [],
   "source": [
    "def jaccard_similarity(list1, list2):\n",
    "    s1 = set(list1)\n",
    "    s2 = set(list2)\n",
    "    # return len(s1.intersection(s2)) / len(s1.union(s2))\n",
    "    return len(s1 & s2) / len(s1 | s2)"
   ]
  },
  {
   "cell_type": "markdown",
   "metadata": {},
   "source": [
    "### B2.1.\n",
    "The first step requires constructing a set representation of each subreddit. The goal is to represent each subreddit as a *set of words* existing in the messages posted on that subreddit. Compute the 50,000 most frequent words across all the provided subreddits. Construct a representation for each subreddit by retaining only the words found in the previously identified set of 50,000 frequent words.\n",
    "\n",
    "Some rules:\n",
    " * Words are defined as tokens matching the regular expression `\\W`\n",
    " * Remove all the stop-words (English language)\n",
    "\n",
    "*Note: You might find the [RegexTokenizer](https://spark.apache.org/docs/2.2.0/ml-features.html#tokenizer) and the [StopWordsRemover](https://spark.apache.org/docs/2.2.0/ml-features.html#stopwordsremover) utilities available in the package pyspark.ml useful for this task as they help you in transforming the features and removing stopwords.*"
   ]
  },
  {
   "cell_type": "code",
   "execution_count": 13,
   "metadata": {},
   "outputs": [],
   "source": [
    "from pyspark.ml.feature import StopWordsRemover, Tokenizer"
   ]
  },
  {
   "cell_type": "code",
   "execution_count": 14,
   "metadata": {},
   "outputs": [],
   "source": [
    "tokenizer = Tokenizer(inputCol=\"body\", outputCol=\"body_tokens\")\n",
    "remover = StopWordsRemover(inputCol=\"body_tokens\", outputCol=\"body_filtered\")"
   ]
  },
  {
   "cell_type": "code",
   "execution_count": 15,
   "metadata": {},
   "outputs": [
    {
     "name": "stdout",
     "output_type": "stream",
     "text": [
      "+-------+-------------------+--------------------+---------------+-----+--------------------+--------------------+\n",
      "|     id|             author|                body|      subreddit|score|         body_tokens|       body_filtered|\n",
      "+-------+-------------------+--------------------+---------------+-----+--------------------+--------------------+\n",
      "|cqug955|       _TimDuncan21|What did the 5 fi...|            nba|    1|[what, did, the, ...|[5, fingers, say,...|\n",
      "|cqug9j7|           Blakwulf|Not what i meant,...|           pics|    4|[not, what, i, me...|[meant,, pretty, ...|\n",
      "|cqug9t1|           GheeGhee|      Giggle fart!!!|            nba|    1|   [giggle, fart!!!]|   [giggle, fart!!!]|\n",
      "|cqug9yz|            bwishey|More like that aw...|          funny|    2|[more, like, that...|[like, awkward, m...|\n",
      "|cquga10|       thricethefun|Bulls in 6 over Cavs|            nba|   20|[bulls, in, 6, ov...|    [bulls, 6, cavs]|\n",
      "|cquga1r|   JakeCameraAction|IT WAS MINOR AND ...|         hockey|    3|[it, was, minor, ...|[minor, think, ma...|\n",
      "|cquga3k|         PhoKingGr8|/r/birdswitharms ...|         videos|    8|[/r/birdswitharms...|[/r/birdswitharms...|\n",
      "|cquga53|   neverhaveiever23|                 LOL|            nfl|    1|               [lol]|               [lol]|\n",
      "|cquga9q|  godless_communism|That's a hell of ...|      worldnews|    1|[that's, a, hell,...|[hell, statement,...|\n",
      "|cqugaaj|    Hugh_G_Wrection|    Pathetic whistle|            nba|    0| [pathetic, whistle]| [pathetic, whistle]|\n",
      "|cqugaba|    LastNewtStandin|I was calling it ...| DestinyTheGame|    0|[i, was, calling,...|[calling, joke,, ...|\n",
      "|cqugaf7|         maverickkk|           SKOLLLLLL|            nfl|    1|         [skollllll]|         [skollllll]|\n",
      "|cqugak4|     FIDEL_CASHFLOW|   it's worth a shot|            nfl|    2|[it's, worth, a, ...|       [worth, shot]|\n",
      "|cqugam9|            Prokade|Well FNS's last n...|GlobalOffensive|   11|[well, fns's, las...|[well, fns's, las...|\n",
      "|cqugama|            SNSDave|They face an LCK ...|leagueoflegends|    2|[they, face, an, ...|[face, lck, quali...|\n",
      "|cqugaq3|         DuckOnQuak|Okay? David Lee f...|            nba|    1|[okay?, david, le...|[okay?, david, le...|\n",
      "|cqugarc|       Lizanderberg|Ok, I don't think...|           news|    1|[ok,, i, don't, t...|[ok,, think, mean...|\n",
      "|cqugarz|         KingNashII|Englishman checki...|            nfl|    2|[englishman, chec...|[englishman, chec...|\n",
      "|cqugas5|         rumplybeef|That awkward mome...|            nfl|    2|[that, awkward, m...|[awkward, moment,...|\n",
      "|cqugasn|THANKS-FOR-THE-GOLD|Or not because it...|          funny|    1|[or, not, because...|[joke, works, typ...|\n",
      "+-------+-------------------+--------------------+---------------+-----+--------------------+--------------------+\n",
      "only showing top 20 rows\n",
      "\n"
     ]
    }
   ],
   "source": [
    "posts_merged = tokenizer.transform(posts_merged)\n",
    "posts_merged = remover.transform(posts_merged)\n",
    "posts_merged.show()"
   ]
  },
  {
   "cell_type": "markdown",
   "metadata": {},
   "source": [
    "### B2.2.\n",
    "* Compute the Jaccard similarity between all the subreddits using the set representation obtained in step **B2.1.**, and plot in a heatmap the similarity values of all the pairs of subreddits.\n",
    "* Analyze this plot and discuss your observations. Do you observe that subreddits corresponding to similar topics possess higher Jaccard similarity?\n",
    "* Provide detailed interpretations of the obtained results. Specifically,\n",
    "    - Explain the limitations of your conclusions, and discuss the potential reasons.\n",
    "    - Explain the potential problems with the Jaccard similarity function."
   ]
  },
  {
   "cell_type": "code",
   "execution_count": 16,
   "metadata": {
    "collapsed": true,
    "jupyter": {
     "outputs_hidden": true
    }
   },
   "outputs": [
    {
     "data": {
      "text/plain": [
       "15"
      ]
     },
     "execution_count": 16,
     "metadata": {},
     "output_type": "execute_result"
    }
   ],
   "source": [
    "posts_merged.select(\"subreddit\").distinct().count()"
   ]
  },
  {
   "cell_type": "code",
   "execution_count": 17,
   "metadata": {},
   "outputs": [],
   "source": [
    "all_words = posts_merged.select(explode(\"body_filtered\").alias(\"word\"))\n",
    "\n",
    "top50k = all_words.groupby(\"word\").agg(count(\"*\").alias(\"total\")).sort(col(\"total\").desc()).limit(50_000)\n",
    "\n",
    "top50k_set = set(row.word for row in top50k.collect())"
   ]
  },
  {
   "cell_type": "code",
   "execution_count": 18,
   "metadata": {},
   "outputs": [],
   "source": [
    "top50k_broadcast = spark.sparkContext.broadcast(top50k_set)\n",
    "\n",
    "# Create a UDF that uses the broadcast variable\n",
    "@udf(returnType=ArrayType(StringType()))\n",
    "def remove_words_filter_udf(text):\n",
    "    if text is None:\n",
    "        return []\n",
    "    return list(set(text) & top50k_broadcast.value)\n",
    "\n",
    "# Apply the function and keep other columns\n",
    "posts_merged_50k = posts_merged.withColumn(\n",
    "    \"top_50k_words\", \n",
    "    remove_words_filter_udf(\"body_filtered\")\n",
    ")"
   ]
  },
  {
   "cell_type": "code",
   "execution_count": 19,
   "metadata": {},
   "outputs": [
    {
     "ename": "PySparkTypeError",
     "evalue": "[NOT_ITERABLE] Column is not iterable.",
     "output_type": "error",
     "traceback": [
      "\u001b[1;31m---------------------------------------------------------------------------\u001b[0m",
      "\u001b[1;31mPySparkTypeError\u001b[0m                          Traceback (most recent call last)",
      "Cell \u001b[1;32mIn[19], line 4\u001b[0m\n\u001b[0;32m      2\u001b[0m \u001b[38;5;28;01mfor\u001b[39;00m sr1 \u001b[38;5;129;01min\u001b[39;00m posts_merged_50k:\n\u001b[0;32m      3\u001b[0m     \u001b[38;5;28;01mfor\u001b[39;00m sr2 \u001b[38;5;129;01min\u001b[39;00m posts_merged_50k:\n\u001b[1;32m----> 4\u001b[0m         similarity\u001b[38;5;241m.\u001b[39mappend((sr1[\u001b[38;5;241m0\u001b[39m], sr2[\u001b[38;5;241m0\u001b[39m], \u001b[43mjaccard_similarity\u001b[49m\u001b[43m(\u001b[49m\u001b[43msr1\u001b[49m\u001b[43m[\u001b[49m\u001b[38;5;241;43m1\u001b[39;49m\u001b[43m]\u001b[49m\u001b[43m,\u001b[49m\u001b[43m \u001b[49m\u001b[43msr2\u001b[49m\u001b[43m[\u001b[49m\u001b[38;5;241;43m1\u001b[39;49m\u001b[43m]\u001b[49m\u001b[43m)\u001b[49m))\n\u001b[0;32m      7\u001b[0m similarity_matrix_50k_words \u001b[38;5;241m=\u001b[39m pd\u001b[38;5;241m.\u001b[39mDataFrame(similarity)\u001b[38;5;241m.\u001b[39mpivot(index\u001b[38;5;241m=\u001b[39m\u001b[38;5;241m0\u001b[39m, columns\u001b[38;5;241m=\u001b[39m\u001b[38;5;241m1\u001b[39m, values\u001b[38;5;241m=\u001b[39m\u001b[38;5;241m2\u001b[39m)\n",
      "Cell \u001b[1;32mIn[12], line 2\u001b[0m, in \u001b[0;36mjaccard_similarity\u001b[1;34m(list1, list2)\u001b[0m\n\u001b[0;32m      1\u001b[0m \u001b[38;5;28;01mdef\u001b[39;00m \u001b[38;5;21mjaccard_similarity\u001b[39m(list1, list2):\n\u001b[1;32m----> 2\u001b[0m     s1 \u001b[38;5;241m=\u001b[39m \u001b[38;5;28;43mset\u001b[39;49m\u001b[43m(\u001b[49m\u001b[43mlist1\u001b[49m\u001b[43m)\u001b[49m\n\u001b[0;32m      3\u001b[0m     s2 \u001b[38;5;241m=\u001b[39m \u001b[38;5;28mset\u001b[39m(list2)\n\u001b[0;32m      4\u001b[0m     \u001b[38;5;66;03m# return len(s1.intersection(s2)) / len(s1.union(s2))\u001b[39;00m\n",
      "File \u001b[1;32mc:\\Python312\\Lib\\site-packages\\pyspark\\sql\\column.py:718\u001b[0m, in \u001b[0;36mColumn.__iter__\u001b[1;34m(self)\u001b[0m\n\u001b[0;32m    717\u001b[0m \u001b[38;5;28;01mdef\u001b[39;00m \u001b[38;5;21m__iter__\u001b[39m(\u001b[38;5;28mself\u001b[39m) \u001b[38;5;241m-\u001b[39m\u001b[38;5;241m>\u001b[39m \u001b[38;5;28;01mNone\u001b[39;00m:\n\u001b[1;32m--> 718\u001b[0m     \u001b[38;5;28;01mraise\u001b[39;00m PySparkTypeError(\n\u001b[0;32m    719\u001b[0m         error_class\u001b[38;5;241m=\u001b[39m\u001b[38;5;124m\"\u001b[39m\u001b[38;5;124mNOT_ITERABLE\u001b[39m\u001b[38;5;124m\"\u001b[39m, message_parameters\u001b[38;5;241m=\u001b[39m{\u001b[38;5;124m\"\u001b[39m\u001b[38;5;124mobjectName\u001b[39m\u001b[38;5;124m\"\u001b[39m: \u001b[38;5;124m\"\u001b[39m\u001b[38;5;124mColumn\u001b[39m\u001b[38;5;124m\"\u001b[39m}\n\u001b[0;32m    720\u001b[0m     )\n",
      "\u001b[1;31mPySparkTypeError\u001b[0m: [NOT_ITERABLE] Column is not iterable."
     ]
    }
   ],
   "source": [
    "similarity = []\n",
    "for sr1 in posts_merged_50k:\n",
    "    for sr2 in posts_merged_50k:\n",
    "        similarity.append((sr1[0], sr2[0], jaccard_similarity(sr1[1], sr2[1])))\n",
    "\n",
    "\n",
    "similarity_matrix_50k_words = pd.DataFrame(similarity).pivot(index=0, columns=1, values=2)"
   ]
  },
  {
   "cell_type": "markdown",
   "metadata": {},
   "source": [
    "### B2.3.\n",
    "\n",
    "* Alternatively, compute the 1000 most frequent words for each subreddit, construct its representation as the set of top-1000 words, and print a heatmap with the Jaccard similarity like in step **B2.2.**.\n",
    "* Explain your observations in detail: how and why is this new result different from the one obtained in **B2.2.**?\n",
    "\n",
    "*Note: Use the same rules specified in B2.1: words tokenized with the regex \\W and stop-words removed*"
   ]
  },
  {
   "cell_type": "code",
   "execution_count": null,
   "metadata": {
    "collapsed": true,
    "jupyter": {
     "outputs_hidden": true
    }
   },
   "outputs": [],
   "source": []
  },
  {
   "cell_type": "markdown",
   "metadata": {},
   "source": [
    "## B3. Moderator assignment based on Subreddit Users\n",
    "\n",
    "Subreddits can be seen as communities of people interacting about a common topic. As an alternative to the *textual content* based similarity in **B2**, your task here is to validate if similarity between two subreddits can be measured based on their participating users.\n",
    "\n",
    "Of course users are not monothematic, and they interact with multiple subreddits. In this task, we are specifically interested in observing the amount of overlap across different subreddits based on their participating users. Similar to **B2**, the overlap is measured using the *Jaccard similarity*.\n",
    "\n",
    "\n",
    "### B3.1.\n",
    "Construct a set representation of each subreddit as the users that posted at least one time in that subreddit.\n",
    "\n",
    "Some users are very talkative and active across different topics. Print the username of the person that posted in the maximum number of subreddits. *Note that users who posted at least once in a subreddit are considered as participant of that subreddit.*"
   ]
  },
  {
   "cell_type": "code",
   "execution_count": null,
   "metadata": {
    "collapsed": true,
    "jupyter": {
     "outputs_hidden": true
    }
   },
   "outputs": [],
   "source": []
  },
  {
   "cell_type": "markdown",
   "metadata": {},
   "source": [
    "### B3.2.\n",
    "\n",
    "* Compute the Jaccard similarity between all the subreddits using the set representation obtained in step **B3.1.**, and visualise it similar to **B2**.\n",
    "* Analyze this plot, identify highly similar pairs of subreddits, and clearly describe your observations."
   ]
  },
  {
   "cell_type": "code",
   "execution_count": null,
   "metadata": {
    "collapsed": true,
    "jupyter": {
     "outputs_hidden": true
    }
   },
   "outputs": [],
   "source": []
  },
  {
   "cell_type": "markdown",
   "metadata": {},
   "source": [
    "## B4. Language vs. Users similarity\n",
    "    \n",
    "* Visualize the similarity scores based on word (**B2.3.**) and user (**B3**) similarity on the x and y axes respectively for the subreddit `NBA` compared to all the other subreddits. Do some semantically meaningful groups emerge? Provide clear explanataions of your observations.\n",
    "* Furthermore, do you observe differences in similarities between various sports-related subreddits in the dataset? Please provide explanations of the reasons behind these differences, if any!"
   ]
  },
  {
   "cell_type": "code",
   "execution_count": null,
   "metadata": {
    "collapsed": true,
    "jupyter": {
     "outputs_hidden": true
    }
   },
   "outputs": [],
   "source": []
  }
 ],
 "metadata": {
  "kernelspec": {
   "display_name": "Python 3",
   "language": "python",
   "name": "python3"
  },
  "language_info": {
   "codemirror_mode": {
    "name": "ipython",
    "version": 3
   },
   "file_extension": ".py",
   "mimetype": "text/x-python",
   "name": "python",
   "nbconvert_exporter": "python",
   "pygments_lexer": "ipython3",
   "version": "3.12.4"
  },
  "varInspector": {
   "cols": {
    "lenName": 16,
    "lenType": 16,
    "lenVar": 40
   },
   "kernels_config": {
    "python": {
     "delete_cmd_postfix": "",
     "delete_cmd_prefix": "del ",
     "library": "var_list.py",
     "varRefreshCmd": "print(var_dic_list())"
    },
    "r": {
     "delete_cmd_postfix": ") ",
     "delete_cmd_prefix": "rm(",
     "library": "var_list.r",
     "varRefreshCmd": "cat(var_dic_list()) "
    }
   },
   "types_to_exclude": [
    "module",
    "function",
    "builtin_function_or_method",
    "instance",
    "_Feature"
   ],
   "window_display": false
  }
 },
 "nbformat": 4,
 "nbformat_minor": 4
}
