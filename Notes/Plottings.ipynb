{
 "cells": [
  {
   "cell_type": "markdown",
   "metadata": {},
   "source": [
    "# Plotting"
   ]
  },
  {
   "cell_type": "code",
   "execution_count": null,
   "metadata": {},
   "outputs": [],
   "source": [
    "color='skyblue', edgecolor='black'"
   ]
  },
  {
   "cell_type": "markdown",
   "metadata": {},
   "source": [
    "### Basic things"
   ]
  },
  {
   "cell_type": "code",
   "execution_count": null,
   "metadata": {},
   "outputs": [],
   "source": [
    "plt.yscale('log')\n",
    "\n",
    "\n",
    "\"\"\" V1 \"\"\"\n",
    "plt.figure(figsize=(8,6))\n",
    "plt.plot(depths, acuracy_scores, marker=\"o\")\n",
    "\n",
    "x_label = \"Characters\"\n",
    "y_label = \"Total spoken length\"\n",
    "plt.xlabel(x_label)\n",
    "plt.ylabel(y_label)\n",
    "plt.title(f'{x_label} VS {y_label}')\n",
    "plt.xticks(rotation=90) \n",
    "\n",
    "plt.ylim(0.9, 1.0)\n",
    "plt.xlim(depths[0] - 1, depths[-1] + 1)\n",
    "plt.tight_layout()\n",
    "\n",
    "\n",
    "\"\"\" V2 \"\"\"\n",
    "plt.figure(figsize=(8,6))\n",
    "plt.plot(models, losses, marker=\"o\", label=\"Loss Curve\")  \n",
    "\n",
    "x_label = \"Characters\"\n",
    "y_label = \"Total spoken length\"\n",
    "plt.xlabel(x_label)\n",
    "plt.ylabel(y_label)\n",
    "plt.title(f'{x_label} VS {y_label}')\n",
    "plt.xticks(rotation=90) \n",
    "\n",
    "plt.ylim(min(losses) - 0.1, max(losses) + 0.1)  \n",
    "plt.legend()\n",
    "plt.grid(True)\n",
    "plt.tight_layout()"
   ]
  },
  {
   "cell_type": "markdown",
   "metadata": {},
   "source": [
    "### Integer Grid"
   ]
  },
  {
   "cell_type": "code",
   "execution_count": null,
   "metadata": {},
   "outputs": [],
   "source": [
    "plt.xticks(range(1, len(precisions)+1))  # Adjust range \n",
    "plt.yticks([i / 10 for i in range(0, 11)])  # Y-axis from 0 to 1 steps of 0.1\n",
    "plt.grid(True, which='both', linestyle='--', linewidth=0.5)"
   ]
  },
  {
   "cell_type": "markdown",
   "metadata": {},
   "source": [
    "### Legend plot: `Label=\"...\"`"
   ]
  },
  {
   "cell_type": "code",
   "execution_count": null,
   "metadata": {},
   "outputs": [],
   "source": [
    "plt.plot(t_train, train_acc_history, label=\"Train\")\n",
    "plt.plot(t_val, val_acc_history, label=\"Val\")\n",
    "...   \n",
    "plt.legend()\n",
    "..."
   ]
  },
  {
   "cell_type": "markdown",
   "metadata": {},
   "source": [
    "### Normal plot\n"
   ]
  },
  {
   "cell_type": "code",
   "execution_count": null,
   "metadata": {},
   "outputs": [],
   "source": [
    "baseball.plot.scatter(x='hr', y='X2b')\n",
    "baseball.plot.scatter(x='ab', y='h')"
   ]
  },
  {
   "cell_type": "markdown",
   "metadata": {},
   "source": [
    "### Histogram and Barplot"
   ]
  },
  {
   "cell_type": "code",
   "execution_count": null,
   "metadata": {},
   "outputs": [],
   "source": [
    "# Frecuency\n",
    "pd_term_frequency.hist(bins=20, color='skyblue', edgecolor='black', figsize=(8, 6))\n",
    "\n",
    "plt.title(\"Term Frequency Distribution\", fontsize=16)\n",
    "plt.xlabel(\"Frequency\", fontsize=14)\n",
    "plt.ylabel(\"Count\", fontsize=14)\n",
    "plt.grid(True, linestyle='--', alpha=0.7)\n",
    "plt.show()\n",
    "\n",
    "# By another variabble\n",
    "movies_by_genre = movies.groupby(\"Main_Genre\")[\"imdb_rating\"].mean()\n",
    "sns.barplot(x=movies_by_genre.index, y=movies_by_genre.values, palette=\"viridis\")"
   ]
  },
  {
   "cell_type": "markdown",
   "metadata": {},
   "source": [
    "- Solaped histograms"
   ]
  },
  {
   "cell_type": "code",
   "execution_count": null,
   "metadata": {},
   "outputs": [],
   "source": [
    "ax = sns.histplot(treated['re78'], kde=True, stat='density', color='blue', label='treated')\n",
    "ax = sns.histplot(control['re78'], kde=True, stat='density', color='orange', label='control')\n",
    "ax.set(title='Income distribution comparison in 1978',xlabel='Income 1978', ylabel='Income density')\n",
    "plt.legend()\n",
    "plt.show()"
   ]
  },
  {
   "cell_type": "markdown",
   "metadata": {},
   "source": [
    "### LOG LOG SCALE"
   ]
  },
  {
   "cell_type": "code",
   "execution_count": null,
   "metadata": {},
   "outputs": [],
   "source": [
    "corpus_frequency.plot.hist(column=[\"Frequency\"], loglog=True, bins=np.logspace(0, 6, 100),\n",
    "                           title=\"Frequency histogram (loglog scale)\");"
   ]
  },
  {
   "cell_type": "markdown",
   "metadata": {},
   "source": [
    "### Plot with Error \n",
    "- Fill"
   ]
  },
  {
   "cell_type": "code",
   "execution_count": null,
   "metadata": {},
   "outputs": [],
   "source": [
    "movies_year[\"up_lim\"] = movies_year[\"mean\"] + movies_year[\"std\"]\n",
    "movies_year[\"down_lim\"] = movies_year[\"mean\"] - movies_year[\"std\"]\n",
    "\n",
    "\n",
    "plt.figure(figsize=(8,6))\n",
    "# plt.errorbar(movies_year.index, movies_year[\"mean\"], yerr=movies_year[\"std\"], fmt='-o', capsize=5)\n",
    "\n",
    "plt.fill_between(movies_year.index, movies_year[\"up_lim\"], movies_year[\"down_lim\"], alpha=0.2)\n",
    "plt.plot(movies_year[\"mean\"], color=\"orange\", marker=\"o\")\n",
    "plt.xlabel(\"Year\")\n",
    "plt.ylabel(\"Worldwide Gross ·10^9\")\n",
    "plt.tight_layout()"
   ]
  },
  {
   "cell_type": "markdown",
   "metadata": {},
   "source": [
    "- Error bar"
   ]
  },
  {
   "cell_type": "code",
   "execution_count": null,
   "metadata": {},
   "outputs": [],
   "source": [
    "plt.figure(figsize=(8,6))\n",
    "plt.errorbar(movies_year.index, movies_year[\"mean\"], yerr=movies_year[\"std\"], fmt='-o', capsize=5)\n",
    "\n",
    "plt.xlabel(\"Year\")\n",
    "plt.ylabel(\"Worldwide Gross ·10^9\")\n",
    "plt.tight_layout()"
   ]
  },
  {
   "cell_type": "markdown",
   "metadata": {},
   "source": [
    "- Barplot wiht error"
   ]
  },
  {
   "cell_type": "code",
   "execution_count": null,
   "metadata": {},
   "outputs": [],
   "source": [
    "def plot_bar_group_with_error(group_by, feature, df, add_numbers = True, alpha_err = 0.35):\n",
    "    plt.figure(figsize=(8,4))\n",
    "    grouped = df.groupby(group_by)[feature].agg([\"mean\", \"std\"]).reset_index()\n",
    "\n",
    "    bars = plt.bar(\n",
    "        grouped[group_by], grouped[\"mean\"], yerr=grouped[\"std\"], \n",
    "        capsize=5, color='lightblue', edgecolor='black', error_kw={'alpha': alpha_err}\n",
    "    )\n",
    "        \n",
    "    if add_numbers:\n",
    "        for bar, mean in zip(bars, grouped[\"mean\"]):\n",
    "            plt.text(\n",
    "                bar.get_x() + bar.get_width() / 2, \n",
    "                bar.get_height() + 0.5,            \n",
    "                f'{mean:.2f}',                   \n",
    "                ha='center', va='bottom'          \n",
    "        )\n",
    "        \n",
    "    plt.tight_layout()\n",
    "    \n",
    "plot_bar_group_with_error(\n",
    "    group_by = \"FuelType\",\n",
    "    feature = \"Price\",\n",
    "    df = toyota_df\n",
    ")"
   ]
  },
  {
   "cell_type": "code",
   "execution_count": null,
   "metadata": {},
   "outputs": [],
   "source": [
    "columns = [\"imdb_rating\", \"length\", \"worldwide_gross\"]\n",
    "\n",
    "plt.figure(figsize=(12,4))\n",
    "for i, feature in enumerate(columns, 1):\n",
    "    rank_year = movies.groupby(\"rank_in_year\")[feature].agg([\"mean\", \"std\"]).reset_index()\n",
    "    \n",
    "    plt.subplot(1, 3, i)\n",
    "    plt.bar(rank_year[\"rank_in_year\"], rank_year[\"mean\"], yerr=rank_year[\"std\"], \n",
    "            capsize=5, color='lightblue', edgecolor='black')\n",
    "        \n",
    "    plt.tight_layout()"
   ]
  },
  {
   "cell_type": "markdown",
   "metadata": {},
   "source": [
    "### Staked barplot"
   ]
  },
  {
   "cell_type": "code",
   "execution_count": null,
   "metadata": {},
   "outputs": [],
   "source": [
    "treated_n = len(treated)\n",
    "treated_marriage_1 = len(treated[treated[\"married\"] == 1]) / treated_n\n",
    "treated_marriage_0 = len(treated[treated[\"married\"] == 0]) / treated_n\n",
    "\n",
    "control_n = len(control)\n",
    "control_marriage_1 = len(control[control[\"married\"] == 1]) / control_n\n",
    "control_marriage_0 = len(control[control[\"married\"] == 0]) / control_n\n",
    "\n",
    "# STACK BY COLUMNS NOT ROWS\n",
    "plot_df = {\n",
    "    \"married\": [treated_marriage_1, control_marriage_1],\n",
    "    \"not_married\": [treated_marriage_0, control_marriage_0],\n",
    "}\n",
    "plot_df = pd.DataFrame(plot_df)\n",
    "\n",
    "plot_df.plot(kind='bar', stacked=True, figsize=(14, 8))\n",
    "# Ajouter des titres et labels\n",
    "plt.title(\"Proportion of people maried\", fontsize=16)\n",
    "plt.xlabel(\"Control or Treated\", fontsize=14)\n",
    "plt.ylabel(\"proportion\", fontsize=14)\n",
    "plt.legend(title=\"\", fontsize=12)\n",
    "\n",
    "# Afficher le graphique\n",
    "plt.tight_layout()\n",
    "plt.show()"
   ]
  },
  {
   "cell_type": "markdown",
   "metadata": {},
   "source": [
    "### Scatter plot"
   ]
  },
  {
   "cell_type": "code",
   "execution_count": null,
   "metadata": {},
   "outputs": [],
   "source": [
    "plt.scatter(CLEAN['Age'], CLEAN['Price'], alpha=0.6, edgecolors='k')\n",
    "\n",
    "plt.figure(figsize=(9, 5))\n",
    "plt.scatter(CLEAN['Age'], CLEAN['Price'], alpha=0.6, edgecolors='k')\n",
    "plt.title(\"Car Age vs Price\", fontsize=20)\n",
    "plt.xlabel(\"Car Age (years)\", fontsize=13)\n",
    "plt.ylabel(\"Price (CHF)\", fontsize=13)\n",
    "plt.xticks(rotation=90)\n",
    "\n",
    "plt.show()"
   ]
  },
  {
   "cell_type": "markdown",
   "metadata": {},
   "source": [
    "#### Add correlation / regresion line"
   ]
  },
  {
   "cell_type": "code",
   "execution_count": null,
   "metadata": {},
   "outputs": [],
   "source": [
    "sns.lmplot(x='SelfEmployed',y='IncomePerCap', data=data_frame)\n",
    "plt.title(\"Car age VS Car Mileage\")\n",
    "plt.ylabel(\"Car Price (CHF)\")\n",
    "plt.xlabel(\"Car Mileage (KM)\")\n"
   ]
  },
  {
   "cell_type": "markdown",
   "metadata": {},
   "source": [
    "make separation within a cathegorical value"
   ]
  },
  {
   "cell_type": "code",
   "execution_count": null,
   "metadata": {},
   "outputs": [],
   "source": [
    "sns.lmplot(x='SelfEmployed',y='IncomePerCap', data=data_frame, hue = 'State')\n",
    "plt.title(\"Car age VS Car Mileage\")\n",
    "plt.ylabel(\"Car Price (CHF)\")\n",
    "plt.xlabel(\"Car Mileage (KM)\")\n"
   ]
  },
  {
   "cell_type": "markdown",
   "metadata": {},
   "source": [
    "### Multiplot scatter"
   ]
  },
  {
   "cell_type": "code",
   "execution_count": null,
   "metadata": {},
   "outputs": [],
   "source": [
    "df_corr = df[['re74', 're75', 're78']]\n",
    "\n",
    "# Pairplot with specific pairings\n",
    "g = sns.pairplot(df_corr, kind='reg', diag_kind='kde', height=2.5, aspect=1.5)\n",
    "g.fig.suptitle(\"Correlation between Re74, Re75, and Re78\", y=1.02, fontsize=16)"
   ]
  },
  {
   "cell_type": "markdown",
   "metadata": {},
   "source": [
    "### Axis barh plot"
   ]
  },
  {
   "cell_type": "code",
   "execution_count": null,
   "metadata": {},
   "outputs": [],
   "source": [
    "plt.subplots(figsize=(5,7))\n",
    "plt.barh(features_coef.name, features_coef.value, alpha=0.6)"
   ]
  },
  {
   "cell_type": "markdown",
   "metadata": {},
   "source": [
    "## Multiplot\n",
    "\n",
    "- plt.subplot(nrows, ncolums, actualPoltIndex)\n",
    "- plt.figure(figsize=(wide, height))\n",
    "- plt.tight_layout() -> avoid overlapping"
   ]
  },
  {
   "cell_type": "code",
   "execution_count": null,
   "metadata": {},
   "outputs": [],
   "source": [
    "heatmap_data_gross = movies.pivot_table(index='Main_Genre', columns='studio', values='worldwide_gross', aggfunc='mean')\n",
    "heatmap_data_rating = movies.pivot_table(index='Main_Genre', columns='studio', values='imdb_rating', aggfunc='mean')\n",
    "\n",
    "plt.figure(figsize=(12, 6))\n",
    "\n",
    "plt.subplot(1,2,1)\n",
    "sns.heatmap(heatmap_data_gross, cmap='YlGnBu')\n",
    "plt.title(\"Heat map of Genre x Studio by gross\")\n",
    "\n",
    "plt.subplot(1,2,2)\n",
    "sns.heatmap(heatmap_data_rating, cmap='YlGnBu')\n",
    "plt.title(\"Heat map of Genre x Studio by rating\")\n",
    "\n",
    "plt.tight_layout() "
   ]
  },
  {
   "cell_type": "markdown",
   "metadata": {},
   "source": [
    "## Seaborn\n",
    "### Cool plottings, Join Plots (_Change \"kind\"_)\n",
    "\n",
    "- Scatter plot + histogram\n",
    "- Heatmap of elevation \n",
    "- Scatter plot con regression line"
   ]
  },
  {
   "cell_type": "code",
   "execution_count": null,
   "metadata": {},
   "outputs": [],
   "source": [
    "sns.jointplot(x=movies['worldwide_gross'], y=movies['imdb_rating'], kind=\"hex\")\n",
    "\n",
    "sns.jointplot(data = movies, x = 'worldwide_gross', y = 'imdb_rating', kind=\"kde\")\n",
    "\n",
    "sns.jointplot(data = movies, x = 'worldwide_gross', y = 'imdb_rating', kind=\"reg\")\n"
   ]
  },
  {
   "cell_type": "markdown",
   "metadata": {},
   "source": [
    "### Heat map\n",
    "First create a pivot table (rows x columns each with a value) and the plot it"
   ]
  },
  {
   "cell_type": "code",
   "execution_count": null,
   "metadata": {},
   "outputs": [],
   "source": [
    "heatmap_data = movies.pivot_table(index='Main_Genre', columns='studio', values='worldwide_gross', aggfunc='mean') #mean sum median...\n",
    "heatmap_data = pd.crosstab(movies['Main_Genre'], movies['studio'])\n",
    "heatmap_data = pd.crosstab(movies['Main_Genre'],movies['Genre_2'], \n",
    "                           values = movies['worldwide_gross'], aggfunc='mean'\n",
    "                           margins=False)\n",
    "\n",
    "\n",
    "\n",
    "sns.heatmap(heatmap_data, cmap='YlGnBu') #cmap = color\n",
    "sns.heatmap(heatmap_data,  annot=True, cmap='YlGnBu') #cmap = color"
   ]
  }
 ],
 "metadata": {
  "kernelspec": {
   "display_name": "Python 3",
   "language": "python",
   "name": "python3"
  },
  "language_info": {
   "codemirror_mode": {
    "name": "ipython",
    "version": 3
   },
   "file_extension": ".py",
   "mimetype": "text/x-python",
   "name": "python",
   "nbconvert_exporter": "python",
   "pygments_lexer": "ipython3",
   "version": "3.12.4"
  }
 },
 "nbformat": 4,
 "nbformat_minor": 2
}
