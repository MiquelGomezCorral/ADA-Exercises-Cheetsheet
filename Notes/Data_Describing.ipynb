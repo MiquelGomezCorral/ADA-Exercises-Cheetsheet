{
 "cells": [
  {
   "cell_type": "markdown",
   "metadata": {},
   "source": [
    "# Data Describing"
   ]
  },
  {
   "cell_type": "code",
   "execution_count": null,
   "metadata": {},
   "outputs": [],
   "source": [
    "from statsmodels.stats import diagnostic\n",
    "from scipy import stats"
   ]
  },
  {
   "cell_type": "markdown",
   "metadata": {},
   "source": [
    "### Data sampling"
   ]
  },
  {
   "cell_type": "code",
   "execution_count": null,
   "metadata": {},
   "outputs": [],
   "source": [
    "#make 10 samples with replacement (can have duplicates)\n",
    "sample1_counties = df.sample(n = 10, replace = True)\n",
    "\n",
    "#make 10 samples without replacement (can't have duplicates)\n",
    "sample1_counties = df.sample(n = 10, replace = False)\n",
    "\n",
    "#sometimes we want to sample in an ublanaced way, so that we upsample datapoints of certain characteristic,\n",
    "#and downsample the others. this can be acieved with weights parameter\n",
    "#here we sample by upsampling counties with large population\n",
    "sample2_counties = df.sample(n = 10, replace = False, weights = df['TotalPop'])"
   ]
  },
  {
   "cell_type": "markdown",
   "metadata": {},
   "source": [
    "- What distribution does the data come from? Here is how we can test the goodness of the fit. `(KS statistic, P-value)`\n",
    "\n",
    "_ifp_value < 0.05 we can reject the null hypothesis that the data comes from a normal or exp distribution!_\n"
   ]
  },
  {
   "cell_type": "code",
   "execution_count": null,
   "metadata": {},
   "outputs": [],
   "source": [
    "# does the data come from a normal distrbution?\n",
    "print(diagnostic.kstest_normal(df['IncomePerCap'].values, dist = 'norm'))\n",
    "print(diagnostic.kstest_normal(df['IncomePerCap'].values, dist = 'exp'))"
   ]
  },
  {
   "cell_type": "markdown",
   "metadata": {},
   "source": [
    "## Examining relationship between two variables\n",
    "How to measure uncertainty\n",
    "- Now we see the importance of mesuring uncertainty and indicating it on data visualizations.\n",
    "- Visual inspection of 95% confidence intervals lets us see that the difference is not significant (the errorbars are overlapping).\n"
   ]
  },
  {
   "cell_type": "markdown",
   "metadata": {},
   "source": [
    "### Pearson value\n",
    "input two variables and ouputs (Person value, p-value)"
   ]
  },
  {
   "cell_type": "code",
   "execution_count": null,
   "metadata": {},
   "outputs": [],
   "source": [
    "stats.pearsonr(df['IncomePerCap'],df['Employed'])\n",
    "# -> PearsonRResult(statistic=0.2646136320394488, pvalue=9.942215354239553e-53)"
   ]
  },
  {
   "cell_type": "markdown",
   "metadata": {},
   "source": [
    "### T-Test\n",
    "\n",
    "This is a two-sided test for the null hypothesis that the two independent samples have identical average (expected) values. "
   ]
  },
  {
   "cell_type": "code",
   "execution_count": null,
   "metadata": {},
   "outputs": [],
   "source": [
    "stats.ttest_ind(\n",
    "    df.loc[df['State'] == 'New York']['IncomePerCap'], \n",
    "    df.loc[df['State'] == 'California']['IncomePerCap']\n",
    ")\n",
    "# -> TtestResult(statistic=0.19788117232375713, pvalue=0.8434785239169611, df=118.0)"
   ]
  },
  {
   "cell_type": "markdown",
   "metadata": {},
   "source": [
    "### Binomial test\n",
    "- count: The number of successes.\n",
    "- nobs: The total number of trials (observations).\n",
    "- prop: The expected proportion (null hypothesis).\n",
    "- alternative: Specifies the type of test. Options are:\n",
    "  - 'two-sided' (default): Tests if the proportion is different from prop.\n",
    "  - 'larger': Tests if the proportion is greater than prop.\n",
    "  - 'smaller': Tests if the proportion is smaller than prop."
   ]
  },
  {
   "cell_type": "code",
   "execution_count": null,
   "metadata": {},
   "outputs": [],
   "source": [
    "from statsmodels.stats import proportion\n",
    "\n",
    "proportion.binom_test(count = 28, nobs= 100, prop=0.2, alternative=\"larger\")\n",
    "# 28 succes out of 100 with 20%. Since we want to see if it greater or not we use larger"
   ]
  },
  {
   "cell_type": "markdown",
   "metadata": {},
   "source": [
    "### Plotting with error ranges\n",
    "\n",
    "You give to the plt.ylim functin a list of errors, each for each data x."
   ]
  },
  {
   "cell_type": "code",
   "execution_count": null,
   "metadata": {},
   "outputs": [],
   "source": [
    "ax = sns.barplot(x=\"State\", y=\"IncomePerCap\", data=df.loc[df['State'].isin(['New York','California'])])\n",
    "plt.ylim([25000,32000])"
   ]
  }
 ],
 "metadata": {
  "language_info": {
   "name": "python"
  }
 },
 "nbformat": 4,
 "nbformat_minor": 2
}
