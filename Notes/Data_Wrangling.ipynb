{
 "cells": [
  {
   "cell_type": "markdown",
   "metadata": {},
   "source": [
    "### Applying a function to the data before plotting"
   ]
  },
  {
   "cell_type": "code",
   "execution_count": null,
   "metadata": {},
   "outputs": [],
   "source": [
    "segments.seg_length.apply(np.log).hist(bins=500)"
   ]
  },
  {
   "cell_type": "markdown",
   "metadata": {},
   "source": [
    "# Parse"
   ]
  },
  {
   "cell_type": "markdown",
   "metadata": {},
   "source": [
    "### Numbers"
   ]
  },
  {
   "cell_type": "code",
   "execution_count": null,
   "metadata": {},
   "outputs": [],
   "source": [
    "df[\"column_name\"] = df[\"column_name\"].astype(float)"
   ]
  },
  {
   "cell_type": "markdown",
   "metadata": {},
   "source": [
    "### With format\n",
    "\n",
    "with \",\" instead of \".\""
   ]
  },
  {
   "cell_type": "code",
   "execution_count": null,
   "metadata": {},
   "outputs": [],
   "source": [
    "country_features['literacy'] = country_features['literacy'].str.replace(',', '.', regex=False).astype(float)"
   ]
  },
  {
   "cell_type": "markdown",
   "metadata": {},
   "source": [
    "Other stuf"
   ]
  },
  {
   "cell_type": "code",
   "execution_count": null,
   "metadata": {},
   "outputs": [],
   "source": [
    "movies['worldwide_gross'] = movies['worldwide_gross'].str.replace('$', '', regex=False).str.replace(',', '', regex=False).astype(float)"
   ]
  },
  {
   "cell_type": "markdown",
   "metadata": {},
   "source": [
    "### String"
   ]
  },
  {
   "cell_type": "code",
   "execution_count": null,
   "metadata": {},
   "outputs": [],
   "source": [
    "happiness[\"country\"] = happiness[\"country\"].str.lower()"
   ]
  },
  {
   "cell_type": "markdown",
   "metadata": {},
   "source": [
    "# Filter"
   ]
  },
  {
   "cell_type": "code",
   "execution_count": null,
   "metadata": {},
   "outputs": [],
   "source": [
    "pd_recurrent = pd_scripts.groupby(\"name\").filter(lambda x: len(x[\"episode\"].unique()) > 1)\n",
    "pd_recurrent = pd_recurrent.groupby(\"name\").filter(lambda x: len(x) > 90)\n",
    "\n",
    "# your code goes here\n",
    "def remove_chars(text):\n",
    "    for char in EXCLUDE_CHARS:\n",
    "        text = text.replace(char, \" \")\n",
    "    return text.lower()\n",
    "        \n",
    "pd_recurrent[\"dialoge\"] = pd_recurrent[\"dialoge\"].apply(remove_chars)\n",
    "pd_recurrent[\"dialoge\"]"
   ]
  },
  {
   "cell_type": "markdown",
   "metadata": {},
   "source": [
    "# Apply"
   ]
  },
  {
   "cell_type": "markdown",
   "metadata": {},
   "source": [
    "### Inline"
   ]
  },
  {
   "cell_type": "code",
   "execution_count": null,
   "metadata": {},
   "outputs": [],
   "source": [
    "country_features[country_features[\"literacy\"] == 100].apply(\n",
    "    lambda x: print(f\"{x[\"world_region\"]:<22} - {x[\"country\"]:<10} ({x[\"happiness_score\"]:.2f})\"),\n",
    "    axis=1 #\"\"\" <- AAAAAAAAAAAAAAA \"\"\"\n",
    ")"
   ]
  },
  {
   "cell_type": "markdown",
   "metadata": {},
   "source": [
    "### Iterrows"
   ]
  },
  {
   "cell_type": "code",
   "execution_count": null,
   "metadata": {},
   "outputs": [],
   "source": [
    "for idx, row in country_features[country_features.literacy==100].iterrows():\n",
    "    print(\"{} - {} ({})\".format(row.world_region, row.country, row.happiness_score))"
   ]
  },
  {
   "cell_type": "markdown",
   "metadata": {},
   "source": [
    "### Def functions"
   ]
  },
  {
   "cell_type": "code",
   "execution_count": null,
   "metadata": {},
   "outputs": [],
   "source": [
    "def clean_dialogue(text):\n",
    "    for char in EXCLUDE_CHARS:\n",
    "        text = text.replace(char, \" \")\n",
    "    return text\n",
    "\n",
    "# Apply the function to the 'dialoge' column\n",
    "pd_recurrent[\"dialoge\"] = pd_recurrent[\"dialoge\"].apply(clean_dialogue)"
   ]
  }
 ],
 "metadata": {
  "language_info": {
   "name": "python"
  }
 },
 "nbformat": 4,
 "nbformat_minor": 2
}
