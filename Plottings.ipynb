{
 "cells": [
  {
   "cell_type": "markdown",
   "metadata": {},
   "source": [
    "# Plotting\n",
    "### Basic things"
   ]
  },
  {
   "cell_type": "code",
   "execution_count": null,
   "metadata": {},
   "outputs": [],
   "source": [
    "plt.yscale('log')\n",
    "\n",
    "\n",
    "\"\"\" V1 \"\"\"\n",
    "plt.plot(depths, acuracy_scores, marker=\"o\")\n",
    "\n",
    "plt.xlabel('Max depth')\n",
    "plt.ylabel('Accuracy')\n",
    "plt.title(f'Accuracy vs max depth')\n",
    "plt.ylim(0.9, 1.0)\n",
    "plt.xlim(depths[0] - 1, depths[-1] + 1)\n",
    "plt.tight_layout()\n",
    "\n",
    "\n",
    "\"\"\" V2 \"\"\"\n",
    "plt.plot(models, losses, marker=\"o\", label=\"Loss Curve\")  \n",
    "\n",
    "plt.xlabel('Model after x epochs')\n",
    "plt.ylabel('Loss')\n",
    "plt.title('Loss over epochs')\n",
    "plt.ylim(min(losses) - 0.1, max(losses) + 0.1)  \n",
    "plt.legend()\n",
    "plt.grid(True)\n",
    "plt.tight_layout()"
   ]
  },
  {
   "cell_type": "markdown",
   "metadata": {},
   "source": [
    "### Legend plot: `Label=\"...\"`"
   ]
  },
  {
   "cell_type": "code",
   "execution_count": null,
   "metadata": {},
   "outputs": [],
   "source": [
    "plt.plot(t_train, train_acc_history, label=\"Train\")\n",
    "plt.plot(t_val, val_acc_history, label=\"Val\")\n",
    "...   \n",
    "plt.legend()\n",
    "..."
   ]
  },
  {
   "cell_type": "markdown",
   "metadata": {},
   "source": [
    "### Normal plot\n"
   ]
  },
  {
   "cell_type": "code",
   "execution_count": null,
   "metadata": {},
   "outputs": [],
   "source": [
    "baseball.plot.scatter(x='hr', y='X2b')\n",
    "baseball.plot.scatter(x='ab', y='h')"
   ]
  },
  {
   "cell_type": "markdown",
   "metadata": {},
   "source": [
    "### Histogram and Barplot"
   ]
  },
  {
   "cell_type": "code",
   "execution_count": null,
   "metadata": {},
   "outputs": [],
   "source": [
    "# Frecuency\n",
    "baseball['ab'].hist() \n",
    "\n",
    "# By another variabble\n",
    "movies_by_genre = movies.groupby(\"Main_Genre\")[\"imdb_rating\"].mean()\n",
    "sns.barplot(x=movies_by_genre.index, y=movies_by_genre.values, palette=\"viridis\")"
   ]
  },
  {
   "cell_type": "markdown",
   "metadata": {},
   "source": [
    "### Staked barplot"
   ]
  },
  {
   "cell_type": "code",
   "execution_count": null,
   "metadata": {},
   "outputs": [],
   "source": [
    "column_names = ['Actors 0-20', 'Actors 20-30', 'Actors 30-40', 'Actors 40-60', 'Actors 60+']\n",
    "plot_df = pd.DataFrame(columns=column_names)\n",
    "for _, genre in enumerate(NEW_GENRE[\"categories\"]):\n",
    "    filtered_df = MOVIES[MOVIES[\"new_genres\"].apply(lambda x: genre in x)]\n",
    "    plot_df.loc[len(plot_df)] = filtered_df[column_names].mean()\n",
    "    \n",
    "\n",
    "plot_df.plot(kind='bar', stacked=True, figsize=(14, 8))\n",
    "\n",
    "# Ajouter des titres et labels\n",
    "plt.title(\"Répartition des Acteurs par Classe d'Âge pour Chaque Genre de Film\", fontsize=16)\n",
    "plt.xlabel(\"Genre de Film\", fontsize=14)\n",
    "plt.ylabel(\"Nombre d'Acteurs\", fontsize=14)\n",
    "plt.legend(title=\"Tranche d'Âge\", fontsize=12)\n",
    "\n",
    "# Afficher le graphique\n",
    "plt.tight_layout()\n",
    "plt.show()\n"
   ]
  },
  {
   "cell_type": "markdown",
   "metadata": {},
   "source": [
    "### Scatter plot"
   ]
  },
  {
   "cell_type": "code",
   "execution_count": null,
   "metadata": {},
   "outputs": [],
   "source": [
    "plt.scatter(CLEAN['Age'], CLEAN['Price'], alpha=0.6, edgecolors='k')\n",
    "\n",
    "plt.figure(figsize=(9, 5))\n",
    "plt.scatter(CLEAN['Age'], CLEAN['Price'], alpha=0.6, edgecolors='k')\n",
    "plt.title(\"Car Age vs Price\", fontsize=20)\n",
    "plt.xlabel(\"Car Age (years)\", fontsize=13)\n",
    "plt.ylabel(\"Price (CHF)\", fontsize=13)\n",
    "plt.xticks(rotation=90)\n",
    "\n",
    "plt.show()"
   ]
  },
  {
   "cell_type": "markdown",
   "metadata": {},
   "source": [
    "## Multiplot\n",
    "\n",
    "- plt.subplot(nrows, ncolums, actualPoltIndex)\n",
    "- plt.figure(figsize=(wide, height))\n",
    "- plt.tight_layout() -> avoid overlapping"
   ]
  },
  {
   "cell_type": "code",
   "execution_count": null,
   "metadata": {},
   "outputs": [],
   "source": [
    "heatmap_data_gross = movies.pivot_table(index='Main_Genre', columns='studio', values='worldwide_gross', aggfunc='mean')\n",
    "heatmap_data_rating = movies.pivot_table(index='Main_Genre', columns='studio', values='imdb_rating', aggfunc='mean')\n",
    "\n",
    "plt.figure(figsize=(12, 6))\n",
    "\n",
    "plt.subplot(1,2,1)\n",
    "sns.heatmap(heatmap_data_gross, cmap='YlGnBu')\n",
    "plt.title(\"Heat map of Genre x Studio by gross\")\n",
    "\n",
    "plt.subplot(1,2,2)\n",
    "sns.heatmap(heatmap_data_rating, cmap='YlGnBu')\n",
    "plt.title(\"Heat map of Genre x Studio by rating\")\n",
    "\n",
    "plt.tight_layout() "
   ]
  },
  {
   "cell_type": "markdown",
   "metadata": {},
   "source": [
    "## Seaborn\n",
    "### Cool plottings, Join Plots (_Change \"kind\"_)\n",
    "\n",
    "- Scatter plot + histogram\n",
    "- Heatmap of elevation \n",
    "- Scatter plot con regression line"
   ]
  },
  {
   "cell_type": "code",
   "execution_count": null,
   "metadata": {},
   "outputs": [],
   "source": [
    "sns.jointplot(x=movies['worldwide_gross'], y=movies['imdb_rating'], kind=\"hex\")\n",
    "\n",
    "sns.jointplot(data = movies, x = 'worldwide_gross', y = 'imdb_rating', kind=\"kde\")\n",
    "\n",
    "sns.jointplot(data = movies, x = 'worldwide_gross', y = 'imdb_rating', kind=\"reg\")\n"
   ]
  },
  {
   "cell_type": "markdown",
   "metadata": {},
   "source": [
    "### Heat map\n",
    "First create a pivot table (rows x columns each with a value) and the plot it"
   ]
  },
  {
   "cell_type": "code",
   "execution_count": null,
   "metadata": {},
   "outputs": [],
   "source": [
    "heatmap_data = movies.pivot_table(index='Main_Genre', columns='studio', values='worldwide_gross', aggfunc='mean') #mean sum median...\n",
    "\n",
    "sns.heatmap(heatmap_data, cmap='YlGnBu') #cmap = color"
   ]
  },
  {
   "cell_type": "markdown",
   "metadata": {},
   "source": [
    "## Mathplot"
   ]
  },
  {
   "cell_type": "code",
   "execution_count": null,
   "metadata": {},
   "outputs": [],
   "source": [
    "plt.errorbar(mean_movie_gross_year.index, mean_movie_gross_year)\n",
    "\n",
    "plt.title('Mean Worldwide Gross per Year with Error Bounds')\n",
    "plt.xlabel('Year')\n",
    "plt.ylabel('Worldwide Gross ($)')"
   ]
  }
 ],
 "metadata": {
  "kernelspec": {
   "display_name": "Python 3",
   "language": "python",
   "name": "python3"
  },
  "language_info": {
   "name": "python",
   "version": "3.12.4"
  }
 },
 "nbformat": 4,
 "nbformat_minor": 2
}
